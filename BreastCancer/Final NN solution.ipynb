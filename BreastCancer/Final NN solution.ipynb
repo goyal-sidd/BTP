{
 "cells": [
  {
   "cell_type": "code",
   "execution_count": 8,
   "metadata": {},
   "outputs": [],
   "source": [
    "import numpy as np\n",
    "import pandas as pd\n",
    "\n",
    "from keras.models import Sequential\n",
    "from keras.layers import Dense,Activation,Layer,Lambda,Dropout\n",
    "\n",
    "from sklearn.cross_validation import train_test_split\n",
    "from sklearn.preprocessing import StandardScaler\n",
    "from sklearn.metrics import confusion_matrix,accuracy_score"
   ]
  },
  {
   "cell_type": "code",
   "execution_count": 2,
   "metadata": {
    "collapsed": true
   },
   "outputs": [],
   "source": [
    "dataset = pd.read_csv(\"data.csv\")"
   ]
  },
  {
   "cell_type": "code",
   "execution_count": 3,
   "metadata": {
    "collapsed": true
   },
   "outputs": [],
   "source": [
    "dataset.drop([\"id\",\"Unnamed: 32\"],axis=1,inplace=True)"
   ]
  },
  {
   "cell_type": "code",
   "execution_count": 4,
   "metadata": {
    "collapsed": true
   },
   "outputs": [],
   "source": [
    "#mapping Benign to 1 and Malignant to 0\n",
    "dataset[\"diagnosis\"] = dataset[\"diagnosis\"].map({'M':1,'B':0})\n",
    "\n",
    "y = dataset[\"diagnosis\"]\n",
    "X = dataset.drop([\"diagnosis\"],axis=1)"
   ]
  },
  {
   "cell_type": "code",
   "execution_count": 42,
   "metadata": {
    "collapsed": true
   },
   "outputs": [],
   "source": [
    "#dividing data set in training, CV and test set\n",
    "\n",
    "trainX, testX, trainY, testY = train_test_split(X, y, test_size = 0.2, random_state = 42)\n",
    "trainX, valX, trainY, valY = train_test_split(trainX, trainY, test_size = 0.2, random_state = 42)"
   ]
  },
  {
   "cell_type": "code",
   "execution_count": 41,
   "metadata": {},
   "outputs": [
    {
     "name": "stdout",
     "output_type": "stream",
     "text": [
      "(364, 30)\n",
      "(364,)\n",
      "(114, 30)\n"
     ]
    }
   ],
   "source": [
    "#getting the dimensions of the datasets\n",
    "\n",
    "print(trainX.shape)\n",
    "print(trainY.shape)\n",
    "print(testX.shape)"
   ]
  },
  {
   "cell_type": "code",
   "execution_count": 43,
   "metadata": {},
   "outputs": [
    {
     "name": "stderr",
     "output_type": "stream",
     "text": [
      "C:\\Users\\Rachit\\Anaconda3\\lib\\site-packages\\ipykernel_launcher.py:5: UserWarning: Update your `Dense` call to the Keras 2 API: `Dense(input_dim=30, activation=\"relu\", units=30, kernel_initializer=\"uniform\")`\n",
      "  \"\"\"\n",
      "C:\\Users\\Rachit\\Anaconda3\\lib\\site-packages\\ipykernel_launcher.py:7: UserWarning: Update your `Dense` call to the Keras 2 API: `Dense(input_dim=30, activation=\"relu\", units=20)`\n",
      "  import sys\n",
      "C:\\Users\\Rachit\\Anaconda3\\lib\\site-packages\\ipykernel_launcher.py:8: UserWarning: Update your `Dense` call to the Keras 2 API: `Dense(input_dim=20, activation=\"sigmoid\", units=1)`\n",
      "  \n"
     ]
    }
   ],
   "source": [
    "#creating the neural network model\n",
    "dropout = 0.4\n",
    "model = Sequential()\n",
    "\n",
    "model.add(Dense(input_dim=30,output_dim=30,init=\"uniform\",activation=\"relu\"))\n",
    "model.add(Dropout(dropout))\n",
    "model.add(Dense(input_dim=30,output_dim=20,activation=\"relu\"))\n",
    "model.add(Dense(input_dim=20,output_dim=1,activation=\"sigmoid\"))\n",
    "\n",
    "model.compile(loss=\"binary_crossentropy\",optimizer='adam',metrics=['accuracy'])"
   ]
  },
  {
   "cell_type": "code",
   "execution_count": 44,
   "metadata": {},
   "outputs": [
    {
     "name": "stdout",
     "output_type": "stream",
     "text": [
      "Epoch 1/10\n",
      "364/364 [==============================] - 1s 2ms/step - loss: 0.6067 - acc: 0.8022\n",
      "Epoch 2/10\n",
      "364/364 [==============================] - 0s 89us/step - loss: 0.4234 - acc: 0.9286\n",
      "Epoch 3/10\n",
      "364/364 [==============================] - 0s 89us/step - loss: 0.2962 - acc: 0.9396\n",
      "Epoch 4/10\n",
      "364/364 [==============================] - 0s 108us/step - loss: 0.2090 - acc: 0.9615\n",
      "Epoch 5/10\n",
      "364/364 [==============================] - 0s 87us/step - loss: 0.1552 - acc: 0.9725\n",
      "Epoch 6/10\n",
      "364/364 [==============================] - 0s 100us/step - loss: 0.1231 - acc: 0.9753\n",
      "Epoch 7/10\n",
      "364/364 [==============================] - 0s 114us/step - loss: 0.0988 - acc: 0.9753\n",
      "Epoch 8/10\n",
      "364/364 [==============================] - 0s 77us/step - loss: 0.0853 - acc: 0.9780\n",
      "Epoch 9/10\n",
      "364/364 [==============================] - 0s 118us/step - loss: 0.0691 - acc: 0.9835\n",
      "Epoch 10/10\n",
      "364/364 [==============================] - 0s 103us/step - loss: 0.0635 - acc: 0.9890\n"
     ]
    },
    {
     "data": {
      "text/plain": [
       "<keras.callbacks.History at 0x16e9a4859b0>"
      ]
     },
     "execution_count": 44,
     "metadata": {},
     "output_type": "execute_result"
    }
   ],
   "source": [
    "#fitting the model to training set\n",
    "\n",
    "scaler = StandardScaler()\n",
    "model.fit(scaler.fit_transform(trainX), trainY,epochs=10,batch_size=20)"
   ]
  },
  {
   "cell_type": "code",
   "execution_count": 45,
   "metadata": {
    "collapsed": true
   },
   "outputs": [],
   "source": [
    "#predicting on test data set we created \n",
    "\n",
    "testN = scaler.transform(testX)\n",
    "predY = model.predict(testN)\n",
    "predY = (predY>0.5)"
   ]
  },
  {
   "cell_type": "code",
   "execution_count": 46,
   "metadata": {},
   "outputs": [
    {
     "name": "stdout",
     "output_type": "stream",
     "text": [
      "[[69  2]\n",
      " [ 1 42]]\n",
      "0.973684210526\n"
     ]
    }
   ],
   "source": [
    "# getting the confusion matrix and accuracy on test set\n",
    "\n",
    "cm = confusion_matrix(testY,predY)\n",
    "acc = accuracy_score(predY,np.array(testY))\n",
    "print(cm)\n",
    "print(acc)"
   ]
  },
  {
   "cell_type": "code",
   "execution_count": 47,
   "metadata": {},
   "outputs": [
    {
     "name": "stdout",
     "output_type": "stream",
     "text": [
      "[[69  2]\n",
      " [ 1 42]]\n",
      "97.3684210526\n"
     ]
    }
   ],
   "source": [
    "cm = confusion_matrix(testY,predY)\n",
    "acc = accuracy_score(predY,np.array(testY))\n",
    "print(cm)\n",
    "print(acc*100)"
   ]
  },
  {
   "cell_type": "code",
   "execution_count": null,
   "metadata": {
    "collapsed": true
   },
   "outputs": [],
   "source": []
  }
 ],
 "metadata": {
  "kernelspec": {
   "display_name": "Python 3",
   "language": "python",
   "name": "python3"
  },
  "language_info": {
   "codemirror_mode": {
    "name": "ipython",
    "version": 3
   },
   "file_extension": ".py",
   "mimetype": "text/x-python",
   "name": "python",
   "nbconvert_exporter": "python",
   "pygments_lexer": "ipython3",
   "version": "3.6.3"
  }
 },
 "nbformat": 4,
 "nbformat_minor": 2
}
